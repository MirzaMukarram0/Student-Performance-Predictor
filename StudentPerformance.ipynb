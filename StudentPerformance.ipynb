{
 "cells": [
  {
   "cell_type": "code",
   "execution_count": null,
   "id": "9e7b3a9a",
   "metadata": {},
   "outputs": [],
   "source": [
    "import pandas as pd\n",
    "from sklearn.linear_model import LinearRegression\n",
    "from sklearn.metrics import mean_absolute_error, mean_squared_error, r2_score\n",
    "import matplotlib.pyplot as plt\n",
    "import numpy as np\n",
    "\n",
    "data=pd.read_csv('StudentPerformanceFactors.csv')\n",
    "X=data[['Hours_Studied']]\n",
    "Y=data['Exam_Score']\n",
    "\n",
    "\n",
    "model=LinearRegression();\n",
    "model.fit(X, Y)\n",
    "predictions=model.predict(X)\n",
    "\n",
    "mae = mean_absolute_error(Y, predictions)\n",
    "mse = mean_squared_error(Y, predictions)\n",
    "rmse = np.sqrt(mse)\n",
    "r2 = r2_score(Y, predictions)\n",
    "\n",
    "print(\"Mean Absolute Error:\", round(mae,2)) \n",
    "print(\"Mean Squared Error:\", round(mse,2))\n",
    "print(\"Root Mean Squared Error:\", round(rmse,2))\n",
    "print(\"R-squared:\", round(r2,4))\n",
    "\n",
    "\n",
    "\n",
    "\n",
    "\n",
    "\n"
   ]
  }
 ],
 "metadata": {
  "language_info": {
   "name": "python"
  }
 },
 "nbformat": 4,
 "nbformat_minor": 5
}
